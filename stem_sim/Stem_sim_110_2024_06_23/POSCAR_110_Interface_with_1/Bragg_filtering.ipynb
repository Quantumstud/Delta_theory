{
 "cells": [
  {
   "cell_type": "markdown",
   "id": "68b28c64-c377-463c-ac07-f53c71f96b8e",
   "metadata": {},
   "source": [
    "## Bragg filtering based on Colin Ophus matlab code \n",
    "% Colin Ophus - 2023 June 9\\\n",
    "% plot image, inset FFT, and dual-bragg filtered image\n",
    "\n",
    "Author: Tara mishra, tpmishra@lbl.gov"
   ]
  },
  {
   "cell_type": "code",
   "execution_count": 2,
   "id": "778c1a3b-d042-428d-807e-2018313ca77e",
   "metadata": {
    "tags": []
   },
   "outputs": [],
   "source": [
    "from scipy.io import loadmat\n",
    "import numpy as np\n",
    "import matplotlib.pyplot as plt\n",
    "from scipy.fft import fft2, ifft2, fftshift\n",
    "import os"
   ]
  },
  {
   "cell_type": "code",
   "execution_count": 3,
   "id": "3e98f450-053e-457b-afc5-f33f02d4b83e",
   "metadata": {
    "tags": []
   },
   "outputs": [],
   "source": [
    "### Electron micrograph \n",
    "im = loadmat('domain_0p4.mat')\n",
    "im = im['array']\n",
    "im = np.squeeze(im)\n",
    "im = im.T"
   ]
  },
  {
   "cell_type": "code",
   "execution_count": 4,
   "id": "c4f57f58-ca1c-4374-85f8-6176b9b10f65",
   "metadata": {
    "tags": []
   },
   "outputs": [],
   "source": [
    "def makeFourierCoords(N, pixelSize):\n",
    "    \"\"\"\n",
    "    Generate Fourier space coordinates for a given array size and pixel size.\n",
    "\n",
    "    The function creates a coordinate grid suitable for Fourier space operations,\n",
    "    taking into account whether the dimensions are even or odd. It supports both\n",
    "    1D and 2D output, depending on the length of the input size array N.\n",
    "\n",
    "    Parameters:\n",
    "    - N (tuple of int): A tuple representing the size of the array. For 1D, it should\n",
    "                        have one element; for 2D, it should have two elements.\n",
    "    - pixelSize (float): The physical size of each pixel, used to scale the Fourier coordinates.\n",
    "\n",
    "    Returns:\n",
    "    - qx, qy (numpy.ndarray): Two numpy arrays representing the Fourier space coordinates\n",
    "                              along the x and y dimensions. For a 1D input, both qx and qy\n",
    "                              will be the same and represent the 1D coordinate grid.\n",
    "\n",
    "    Example Usage:\n",
    "    For a 2D array of size 256x256 with a pixel size of 0.1:\n",
    "        N = (256, 256)\n",
    "        pixelSize = 0.1\n",
    "        qx, qy = makeFourierCoords(N, pixelSize)\n",
    "    \"\"\"\n",
    "\n",
    "    # Generate qx\n",
    "    if N[0] % 2 == 0:\n",
    "        qx = np.fft.fftshift(np.arange(-N[0]//2, N[0]//2) / (N[0] * pixelSize))\n",
    "    else:\n",
    "        qx = np.fft.fftshift(np.arange((1-N[0])//2, (N[0]+1)//2) / (N[0] * pixelSize))\n",
    "\n",
    "    # Generate qy if needed\n",
    "    if len(N) > 1:\n",
    "        if N[1] % 2 == 0:\n",
    "            qy = np.fft.fftshift(np.arange(-N[1]//2, N[1]//2) / (N[1] * pixelSize))\n",
    "        else:\n",
    "            qy = np.fft.fftshift(np.arange((1-N[1])//2, (N[1]+1)//2) / (N[1] * pixelSize))\n",
    "        qy, qx = np.meshgrid(qy, qx)\n",
    "    else:\n",
    "        qy = qx\n",
    "\n",
    "    return qx, qy\n"
   ]
  },
  {
   "cell_type": "code",
   "execution_count": 5,
   "id": "b8628940-e9b0-4ca0-b6ca-c93ed7c1b722",
   "metadata": {
    "tags": []
   },
   "outputs": [],
   "source": [
    "import numpy as np\n",
    "\n",
    "def tukeywinMake(windowSize, windowFrac=None):\n",
    "    \"\"\"\n",
    "    Create a Tukey (Hann) window.\n",
    "\n",
    "    This function redefines the Tukey (or Hann) window function for 1D or 2D inputs.\n",
    "\n",
    "    Parameters:\n",
    "    - windowSize (tuple of int): The size of the window. Can be a single integer for 1D, \n",
    "                                 or a tuple of two integers for 2D.\n",
    "    - windowFrac (float or tuple of float, optional): The fractional size of the window. \n",
    "                                                      Default is [0, 0] for 1D, and it is replicated \n",
    "                                                      for each dimension if provided as a single value for 2D.\n",
    "\n",
    "    Returns:\n",
    "    - windowOutput (numpy.ndarray): The resulting Tukey window. 1D or 2D depending on the input.\n",
    "\n",
    "    Example:\n",
    "        For a 1D window of size 100 and window fraction 0.5:\n",
    "        window = tukeywinMake(100, 0.5)\n",
    "        \n",
    "        For a 2D window of size (100, 200) with different window fractions for each dimension:\n",
    "        window = tukeywinMake((100, 200), (0.5, 0.3))\n",
    "    \"\"\"\n",
    "    if windowFrac is None:\n",
    "        windowFrac = (0, 0)\n",
    "    elif np.isscalar(windowFrac):\n",
    "        windowFrac = (windowFrac, windowFrac)\n",
    "\n",
    "    # Ensure windowSize is a tuple\n",
    "    if np.isscalar(windowSize):\n",
    "        windowSize = (windowSize,)\n",
    "\n",
    "    # 1D window calculation\n",
    "    x = np.linspace(1, windowSize[0], windowSize[0])\n",
    "    windowOutput = np.minimum(1/(1 - windowFrac[0]) * (1 - np.abs((windowSize[0]+1)/2 - x) * 2 / windowSize[0]), 1)\n",
    "    windowOutput = np.sin(windowOutput * (np.pi/2)) ** 2\n",
    "\n",
    "    # 2D window calculation\n",
    "    if len(windowSize) == 2:\n",
    "        y = np.linspace(1, windowSize[1], windowSize[1])\n",
    "        wy = np.minimum(1/(1 - windowFrac[1]) * (1 - np.abs((windowSize[1]+1)/2 - y) * 2 / windowSize[1]), 1)\n",
    "        wy = np.sin(wy * (np.pi/2)) ** 2\n",
    "\n",
    "        windowOutput = np.outer(windowOutput, wy)\n",
    "\n",
    "    return windowOutput\n"
   ]
  },
  {
   "cell_type": "code",
   "execution_count": 6,
   "id": "ba060d1d-f3da-4110-abd5-4e96e9912f8e",
   "metadata": {
    "tags": []
   },
   "outputs": [],
   "source": [
    "# Define constants and parameters\n",
    "qu = np.array([-43, 29])  # Red\n",
    "qv = np.array([43, 29])   # Blue\n",
    "qr = 10  # radius\n",
    "qp = 2   # power\n",
    "# Size of image\n",
    "N = im.shape\n",
    "x_range = [1, N[0]]\n",
    "y_range = [1, N[1]]\n",
    "int_range = [0, 0.0005]\n",
    "int_fft = [0, 0.2]\n",
    "int_sig = [0.0, 1.3]\n",
    "sign_filt = 1\n",
    "scale_circle = 1\n",
    "\n",
    "## Color scheme\n",
    "c = np.array([[1, 0.4, 0], [0, 0.6, 0.8]])\n",
    "\n",
    "# Crop image if necessary\n",
    "# im = im[x_range[0]-1:x_range[1], y_range[0]-1:y_range[1]]  # Uncomment if cropping is needed\n",
    "\n",
    "\n",
    "\n",
    "# Generate Fourier coordinates for each dimension\n",
    "qx = makeFourierCoords((N[0],), 1/N[0])[0]\n",
    "qy = makeFourierCoords((N[1],), 1/N[1])[0]\n",
    "qya, qxa = np.meshgrid(qy, qx)\n",
    "\n",
    "# Shifted Fourier coordinates\n",
    "qxs = fftshift(qx)\n",
    "qys = fftshift(qy)\n",
    "\n",
    "#Calculate window size based on x_range and y_range\n",
    "\n",
    "window_size = (x_range[1] - x_range[0] + 1, y_range[1] - y_range[0] + 1)\n",
    "\n",
    "# Create Tukey window\n",
    "w2 = tukeywinMake(window_size)\n",
    "\n",
    "# Pad window to match the size of the image\n",
    "pad_x = (N[0] - w2.shape[0]) // 2\n",
    "pad_y = (N[1] - w2.shape[1]) // 2\n",
    "w2_padded = np.pad(w2, ((pad_x, pad_x), (pad_y, pad_y)), mode='constant')\n",
    "\n",
    "# Apply FFT\n",
    "im_fft = fft2(im)\n",
    "im_fft_window = fft2(im * w2_padded)\n",
    "\n",
    "## Parent peak signals\n",
    "qra2 = (qxa - qu[0])**2 + (qya - qu[1])**2\n",
    "mask = 1. / (1 + (qra2 ** (qp / 2)) / (qr ** qp))\n",
    "parent_u = np.abs(ifft2(im_fft * mask))\n",
    "\n",
    "\n",
    "qra2 = (qxa - qv[0])**2 + (qya - qv[1])**2\n",
    "mask = 1. / (1 + (qra2 ** (qp / 2)) / (qr ** qp))\n",
    "parent_v = np.abs(ifft2(im_fft * mask))\n",
    "\n",
    "# Superlattice peak signals for 'qu'\n",
    "qra2 = (qxa - qu[0]/2)**2 + (qya - qu[1]/2)**2\n",
    "mask = 1. / (1 + (qra2 ** (qp / 2)) / (qr ** qp))\n",
    "superlattice_u = np.abs(ifft2( sign_filt * im_fft * mask))\n",
    "\n",
    "# Superlattice peak signals for 'qv'\n",
    "qra2 = (qxa - qv[0]/2)**2 + (qya - qv[1]/2)**2\n",
    "mask = 1. / (1 + (qra2 ** (qp / 2)) / (qr ** qp))\n",
    "superlattice_v = np.abs(ifft2(sign_filt * im_fft * mask))"
   ]
  },
  {
   "cell_type": "code",
   "execution_count": 7,
   "id": "2ad3eeaa-fdf7-4355-af0b-2b18d63fbd06",
   "metadata": {
    "tags": []
   },
   "outputs": [],
   "source": [
    "# Ratio calculations\n",
    "sig_u = superlattice_u / (parent_u + 1e-9)  # Prevent division by zero\n",
    "sig_v = superlattice_v / (parent_v + 1e-9)  # Prevent division by zero\n",
    "# Normalize sig_u and sig_v\n",
    "sig_u = np.clip((sig_u - int_sig[0]) / (int_sig[1] - int_sig[0]), 0, 1)\n",
    "sig_v = np.clip((sig_v - int_sig[0]) / (int_sig[1] - int_sig[0]), 0, 1)\n"
   ]
  },
  {
   "cell_type": "code",
   "execution_count": 8,
   "id": "6c01014e-3ef6-4d29-97f6-a39661a10b6f",
   "metadata": {
    "tags": []
   },
   "outputs": [],
   "source": [
    "# Normalize the input image\n",
    "im_val = np.clip((im - int_range[0]) / (int_range[1] - int_range[0]), 0, 1)\n",
    "\n",
    "# Initialize im_uv and adjust based on sig_u and sig_v\n",
    "im_uv = np.zeros((*sig_u.shape,3))\n",
    "im_uv[:, :, 0] = sig_v\n",
    "im_uv[:, :, 2] = sig_u"
   ]
  },
  {
   "cell_type": "code",
   "execution_count": 9,
   "id": "b79af81c-b31e-4e60-9efe-7ca61a53d081",
   "metadata": {
    "tags": []
   },
   "outputs": [],
   "source": [
    "### Plotting in the script\n",
    "t = np.linspace(0, 2*np.pi, 181)\n",
    "ct = np.cos(t)\n",
    "st = np.sin(t)\n"
   ]
  },
  {
   "cell_type": "code",
   "execution_count": 13,
   "id": "8d1471c2-bf46-4c29-91a0-554e189433a5",
   "metadata": {
    "tags": []
   },
   "outputs": [
    {
     "data": {
      "image/png": "[encoded data removed]",
      "text/plain": [
       "<Figure size 1000x800 with 4 Axes>"
      ]
     },
     "metadata": {},
     "output_type": "display_data"
    }
   ],
   "source": [
    "# Plot original image\n",
    "# Create subplots\n",
    "fig, ax = plt.subplots(1, 4, figsize=(10,5))\n",
    "\n",
    "# Plot im_val\n",
    "im_val_plot = ax[0].imshow(im, cmap='gray', \n",
    "                           extent=[y_range[0], y_range[1], x_range[0], x_range[1]],)\n",
    "#fig.colorbar(im_val_plot, ax=ax[0], extend='both')\n",
    "ax[0].axis('equal')\n",
    "ax[0].axis('off')\n",
    "\n",
    "# Plot im_uv\n",
    "im_uv_plot = ax[1].imshow(sig_u,\n",
    "                          cmap='Reds',\n",
    "                          vmin = 0.5,\n",
    "                          vmax=0.8,\n",
    "                          extent=[y_range[0], y_range[1], x_range[0], x_range[1]])\n",
    "#fig.colorbar(im_uv_plot, ax=ax[1], extend='both')\n",
    "ax[1].axis('off')\n",
    "\n",
    "im_uv_plot = ax[2].imshow(sig_v,\n",
    "                          cmap = 'Blues',\n",
    "                          vmin = 0.5,\n",
    "                          vmax=0.8,\n",
    "                          extent=[y_range[0], y_range[1], x_range[0], x_range[1]])\n",
    "#fig.colorbar(im_uv_plot, ax=ax[2], extend='both')\n",
    "ax[2].axis('equal')\n",
    "ax[2].axis('off')\n",
    "\n",
    "# Plot Fourier transform with circles\n",
    "qv_color_blue = (0.031,0.188,0.420)\n",
    "\n",
    "# Apply FFT shift and take the absolute value\n",
    "fft_show = np.fft.fftshift(np.abs(im_fft_window))\n",
    "\n",
    "# Define the window limits\n",
    "window = [-60, 60]\n",
    "\n",
    "# Slice the FFT data to the desired window\n",
    "# Assuming y_range and x_range represent the total ranges of your data\n",
    "y_mid = fft_show.shape[0] // 2\n",
    "x_mid = fft_show.shape[1] // 2\n",
    "fft_show_window = fft_show[y_mid + window[0]:y_mid + window[1], x_mid + window[0]:x_mid + window[1]]\n",
    "\n",
    "# Plot the sliced FFT data with the adjusted extent\n",
    "im_fft_plot = ax[3].imshow(fft_show_window, extent=[window[0], window[1], window[0], window[1]], cmap='gray_r')\n",
    "\n",
    "# Plotting the circles\n",
    "ax[3].plot(st*qr*scale_circle + qu[1]/2, ct*qr*scale_circle + qu[0]/2, color='red', linewidth=1)\n",
    "ax[3].plot(st*qr*scale_circle + qv[1]/2, ct*qr*scale_circle + qv[0]/2, color=qv_color_blue, linewidth=1)\n",
    "\n",
    "im_fft_plot.set_clim(int_fft)\n",
    "ax[3].axis('equal')\n",
    "ax[3].axis('off')\n",
    "\n",
    "fig.tight_layout()\n",
    "\n",
    "os.system(f'cp Filtered_results.pdf Filtered_results_old.pdf')\n",
    "fig.savefig('Filtered_results.pdf')"
   ]
  },
  {
   "cell_type": "code",
   "execution_count": null,
   "id": "df68b66c-426e-4f6a-acdd-13c55a3b4e8e",
   "metadata": {},
   "outputs": [],
   "source": []
  }
 ],
 "metadata": {
  "kernelspec": {
   "display_name": "Python 3 (ipykernel)",
   "language": "python",
   "name": "python3"
  },
  "language_info": {
   "codemirror_mode": {
    "name": "ipython",
    "version": 3
   },
   "file_extension": ".py",
   "mimetype": "text/x-python",
   "name": "python",
   "nbconvert_exporter": "python",
   "pygments_lexer": "ipython3",
   "version": "3.12.4"
  }
 },
 "nbformat": 4,
 "nbformat_minor": 5
}
