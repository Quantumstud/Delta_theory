{
 "cells": [
  {
   "cell_type": "markdown",
   "id": "2b01fe19-a022-41ac-85ef-9eb6f3c71ae5",
   "metadata": {},
   "source": [
    "# Example of building interface at the fractional coordinate z = 0.5"
   ]
  },
  {
   "cell_type": "code",
   "execution_count": 3,
   "id": "58211ce3-daa1-4603-9fd0-85ceffd107e8",
   "metadata": {},
   "outputs": [],
   "source": [
    "%load_ext autoreload\n",
    "%autoreload 2"
   ]
  },
  {
   "cell_type": "code",
   "execution_count": 4,
   "id": "abd2581c-9405-452c-9165-790646b50f12",
   "metadata": {},
   "outputs": [],
   "source": [
    "import os\n",
    "import pickle\n",
    "import random\n",
    "import numpy as np\n",
    "\n",
    "from random import sample\n",
    "from collections import defaultdict\n",
    "\n",
    "from pymatgen.core import Species, Composition\n",
    "from pymatgen.core.structure import Structure"
   ]
  },
  {
   "cell_type": "code",
   "execution_count": 5,
   "id": "ad2d5342-f43e-4ec0-b3a6-bc5c4e9b678c",
   "metadata": {},
   "outputs": [],
   "source": [
    "round_number = 4\n",
    "\n",
    "nn_dist = 1.81865\n",
    "\n",
    "nn1_dist = 2.97\n",
    "nn2_dist = 4.2\n",
    "nn3_dist = 5.14\n",
    "nn4_dist = 5.94\n",
    "    \n",
    "Li = Species.from_str(\"Li+\")\n",
    "Mn3 = Species.from_str(\"Mn3+\")\n",
    "Mn4 = Species.from_str(\"Mn4+\")\n",
    "Ti4 = Species.from_str(\"Ti4+\")\n",
    "O2 = Species.from_str(\"O2-\")\n",
    "    \n",
    "def Resources():          # Read resource file written by resource maker.\n",
    "\n",
    "    with open('Resources.pickle', 'rb') as handle:\n",
    "        Resources = pickle.load(handle)\n",
    "\n",
    "    s = Resources['initial_structure']\n",
    "    indices = Resources['indices'] \n",
    "    Occupied = Resources['Spinel_Orientation_Occupancies']\n",
    "    \n",
    "    for o in range(4):          # Deriving translational Variants of the 4 Rotational variants\n",
    "        Occupied[o+4]= [x for x in indices['oct'] if x not in Occupied[o]]    \n",
    "    \n",
    "    #Nearest Neighbors lists and Neighbor Octahedra lists for octahedra are not are not extracted. But are available in the resources file.\n",
    "    \n",
    "    return Occupied, indices, s   \n",
    "\n",
    "def Structure_Editor(s, indices):  #Editing structure so that sites on the edge and face of the cell are relocated to a consistent periodic boundary image.\n",
    "    \n",
    "    counter = 0\n",
    "\n",
    "    for site in indices['oct']:      \n",
    "        s[site].frac_coords = np.round(s[site].frac_coords,5)      \n",
    "        Frac_Coords = s[site].frac_coords\n",
    "        if Frac_Coords[0]==1 or Frac_Coords[1]==1 or Frac_Coords[2]==1:\n",
    "            if Frac_Coords[0]==1:\n",
    "                s[site].frac_coords[0]=0\n",
    "            if Frac_Coords[1]==1:\n",
    "                s[site].frac_coords[1]=0\n",
    "            if Frac_Coords[2]==1:\n",
    "                s[site].frac_coords[2]=0\n",
    "                \n",
    "    return s\n",
    "    \n",
    "def Interface_Cell_Occupancies(ordering1, ordering2, Occupied,central_flip, structure):\n",
    "    \n",
    "    counter1, counter2 = 0,0\n",
    "    \n",
    "    Mn_list, Vac_list = [],[]\n",
    "    \n",
    "    for octa in indices['oct']:\n",
    "        if np.round(structure[octa].frac_coords[2],round_number)<central_flip:\n",
    "            counter1+=1\n",
    "            if (octa in Occupied[ordering1]):\n",
    "                Mn_list.append(octa)\n",
    "            else:\n",
    "                Vac_list.append(octa)\n",
    "        else:\n",
    "            counter2+=1\n",
    "            if (octa in Occupied[ordering2]):\n",
    "                Mn_list.append(octa)\n",
    "            else:\n",
    "                Vac_list.append(octa)\n",
    "                \n",
    "    return  Mn_list, Vac_list\n",
    "\n",
    "def Structure_Maker(Li_l, Vac_l, Mn_l,interfacial_poscar_filename,chgnet_structure):\n",
    "    for li in Li_l:\n",
    "        chgnet_structure.replace(li, {Li : 1}) \n",
    "\n",
    "    for mn3 in Mn_l:\n",
    "        chgnet_structure.replace(mn3, {Mn3 : 1})\n",
    "\n",
    "    chgnet_structure.remove_sites(Vac_l)  \n",
    "    \n",
    "    chgnet_structure = chgnet_structure.get_sorted_structure()\n",
    "    \n",
    "    chgnet_structure.to(fmt='poscar', filename=interfacial_poscar_filename)\n",
    "    \n",
    "def POSCAR_edit(poscar_file, a, b, c):        # Aligning the cell vectors of the orthogonal cell along x,y and z axes.\n",
    "\n",
    "    with open(poscar_file, 'r') as file:\n",
    "        poscar_lines = file.readlines()\n",
    "    \n",
    "    poscar_lines[2] = f\"  {a}   0.0000000000000000   0.0000000000000000\\n\"\n",
    "    poscar_lines[3] = f\"  0.0000000000000000   {b}   0.0000000000000000\\n\"\n",
    "    poscar_lines[4] = f\"  0.0000000000000000   0.0000000000000000   {c}\\n\"\n",
    "    \n",
    "    with open(poscar_file, 'w') as file:\n",
    "        file.writelines( poscar_lines )"
   ]
  },
  {
   "cell_type": "code",
   "execution_count": 6,
   "id": "293352d4-5b21-44c8-b619-0177b3c1e168",
   "metadata": {},
   "outputs": [
    {
     "name": "stdout",
     "output_type": "stream",
     "text": [
      "===============================================================================================\n",
      "100\n",
      "===============================================================================================\n",
      "\n",
      "\n",
      "\n"
     ]
    },
    {
     "ename": "NameError",
     "evalue": "name 'o1' is not defined",
     "output_type": "error",
     "traceback": [
      "\u001b[0;31m---------------------------------------------------------------------------\u001b[0m",
      "\u001b[0;31mNameError\u001b[0m                                 Traceback (most recent call last)",
      "Cell \u001b[0;32mIn[6], line 31\u001b[0m\n\u001b[1;32m     28\u001b[0m \u001b[38;5;28;01melse\u001b[39;00m:\n\u001b[1;32m     29\u001b[0m     orient2\u001b[38;5;241m=\u001b[39mo2\n\u001b[0;32m---> 31\u001b[0m Mn_l, Vacancy_l \u001b[38;5;241m=\u001b[39m Interface_Cell_Occupancies(\u001b[43mo1\u001b[49m, orient2, Occupied, \u001b[38;5;241m0.5\u001b[39m, s)   \n\u001b[1;32m     32\u001b[0m Vac_l \u001b[38;5;241m=\u001b[39m Vacancy_l\u001b[38;5;241m+\u001b[39mindices[\u001b[38;5;124m'\u001b[39m\u001b[38;5;124mtet\u001b[39m\u001b[38;5;124m'\u001b[39m]\u001b[38;5;241m.\u001b[39mcopy()\n\u001b[1;32m     33\u001b[0m Li_l \u001b[38;5;241m=\u001b[39m []                                 \u001b[38;5;66;03m# for the fully delithiated structure\u001b[39;00m\n",
      "\u001b[0;31mNameError\u001b[0m: name 'o1' is not defined"
     ]
    }
   ],
   "source": [
    "parent_directory = os.getcwd()\n",
    "\n",
    "Order2 = ['Pristine']+[x+1 for x in range(7)]\n",
    "\n",
    "Interfaces = ['100','110','111','211','210','221']\n",
    "\n",
    "for interface in Interfaces:\n",
    "    print(\"===============================================================================================\")\n",
    "    print(interface)\n",
    "    print(\"===============================================================================================\")\n",
    "    print(\"\\n\\n\")\n",
    "    sub_dir = os.path.join(parent_directory, interface)  \n",
    "    os.chdir(sub_dir)\n",
    "\n",
    "    Occupied, indices, s = Resources()\n",
    "    s = Structure_Editor(s, indices)\n",
    "    \n",
    "    Lattice = s.lattice\n",
    "    fraction = 0.960920049102452           #resize the vectors to come closer to the delithiated lattice parameter.\n",
    "    a, b, c = fraction*Lattice.a , fraction*Lattice.b , fraction*Lattice.c\n",
    "\n",
    "    O_2 = indices['O2'].copy()\n",
    "    \n",
    "    for o2 in Order2:\n",
    "        \n",
    "        if o2=='Pristine':\n",
    "            orient2=0\n",
    "        else:\n",
    "            orient2=o2\n",
    "\n",
    "        Mn_l, Vacancy_l = Interface_Cell_Occupancies(o1, orient2, Occupied, 0.5, s)   \n",
    "        Vac_l = Vacancy_l+indices['tet'].copy()\n",
    "        Li_l = []                                 # for the fully delithiated structure\n",
    "        \n",
    "        chgnet_structure = s.copy()\n",
    "\n",
    "        poscar_file = f'POSCAR_{interface}_Interface_with_{o2}'\n",
    "        \n",
    "        # Not checking the stoichiometry of the cell before writing POSCAR. You might need it. \n",
    "\n",
    "        Structure_Maker(Li_l, Vac_l, Mn_l, poscar_file, chgnet_structure)    \n",
    "        POSCAR_edit(poscar_file, a, b, c)"
   ]
  },
  {
   "cell_type": "code",
   "execution_count": 9,
   "id": "8c0b2e2c-fe88-4ac4-a7b5-9bead5550b20",
   "metadata": {},
   "outputs": [
    {
     "data": {
      "text/plain": [
       "['Pristine', 1, 2, 3, 4, 5, 6, 7]"
      ]
     },
     "execution_count": 9,
     "metadata": {},
     "output_type": "execute_result"
    }
   ],
   "source": [
    "Order2"
   ]
  },
  {
   "cell_type": "code",
   "execution_count": null,
   "id": "be9c5a9c-b665-472c-b33f-099c49ea07c0",
   "metadata": {},
   "outputs": [],
   "source": []
  }
 ],
 "metadata": {
  "kernelspec": {
   "display_name": "Python 3 (ipykernel)",
   "language": "python",
   "name": "python3"
  },
  "language_info": {
   "codemirror_mode": {
    "name": "ipython",
    "version": 3
   },
   "file_extension": ".py",
   "mimetype": "text/x-python",
   "name": "python",
   "nbconvert_exporter": "python",
   "pygments_lexer": "ipython3",
   "version": "3.12.4"
  }
 },
 "nbformat": 4,
 "nbformat_minor": 5
}
